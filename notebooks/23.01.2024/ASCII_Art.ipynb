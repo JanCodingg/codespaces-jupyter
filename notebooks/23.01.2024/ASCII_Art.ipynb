{
 "cells": [
  {
   "cell_type": "markdown",
   "metadata": {},
   "source": [
    "Asci Art"
   ]
  },
  {
   "cell_type": "code",
   "execution_count": 23,
   "metadata": {},
   "outputs": [
    {
     "name": "stdout",
     "output_type": "stream",
     "text": [
      "                    \n",
      "x                  O\n",
      "xx                OO\n",
      "xxx              OOO\n",
      "xxxx            OOOO\n",
      "xxxxx          OOOOO\n",
      "xxxxxx        OOOOOO\n",
      "xxxxxxx      OOOOOOO\n",
      "xxxxxxxx    OOOOOOOO\n",
      "xxxxxxxxx  OOOOOOOOO\n",
      "xxxxxxxxxxOOOOOOOOOO\n",
      "xxxxxxxxx  OOOOOOOOO\n",
      "xxxxxxxx    OOOOOOOO\n",
      "xxxxxxx      OOOOOOO\n",
      "xxxxxx        OOOOOO\n",
      "xxxxx          OOOOO\n",
      "xxxx            OOOO\n",
      "xxx              OOO\n",
      "xx                OO\n",
      "x                  O\n"
     ]
    }
   ],
   "source": [
    "size = 10\n",
    "for i in range(size): \n",
    "    for n in range(i):\n",
    "        print(\"x\", end=\"\")\n",
    "    for y in range(2*(size-i)):\n",
    "        print(\" \", end=\"\")\n",
    "    for z in range(i):\n",
    "        print(\"O\", end=\"\")  \n",
    "    print(\"\")\n",
    "for i in range(size): \n",
    "    for n in range(size-i):\n",
    "        print(\"x\", end=\"\")\n",
    "    for y in range(2*i):\n",
    "        print(\" \", end=\"\")\n",
    "    for z in range(size-i):\n",
    "        print(\"O\", end=\"\")  \n",
    "    print(\"\")"
   ]
  }
 ],
 "metadata": {
  "kernelspec": {
   "display_name": "Python 3",
   "language": "python",
   "name": "python3"
  },
  "language_info": {
   "codemirror_mode": {
    "name": "ipython",
    "version": 3
   },
   "file_extension": ".py",
   "mimetype": "text/x-python",
   "name": "python",
   "nbconvert_exporter": "python",
   "pygments_lexer": "ipython3",
   "version": "3.12.1"
  }
 },
 "nbformat": 4,
 "nbformat_minor": 2
}
