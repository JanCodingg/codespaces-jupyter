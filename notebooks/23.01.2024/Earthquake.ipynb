{
 "cells": [
  {
   "cell_type": "markdown",
   "metadata": {},
   "source": [
    "![alt text](image.png)"
   ]
  },
  {
   "cell_type": "code",
   "execution_count": 1,
   "metadata": {},
   "outputs": [
    {
     "name": "stdout",
     "output_type": "stream",
     "text": [
      "Category: Minor\n",
      "Advice: Rarely felt, but recorded.\n"
     ]
    }
   ],
   "source": [
    "earthquake_category = lambda magnitude: (\n",
    "    (\"Micro\", \"Detected only by seismographs.\") if magnitude < 2.0 else\n",
    "    (\"Minor\", \"Rarely felt, but recorded.\") if 2.0 <= magnitude < 4.0 else\n",
    "    (\"Light\", \"Felt by people, minor damage.\") if 4.0 <= magnitude < 5.0 else\n",
    "    (\"Moderate\", \"Can cause damage in populated areas. Stay indoors.\") if 5.0 <= magnitude < 6.0 else\n",
    "    (\"Strong\", \"Serious damage in areas up to 100 miles. Stay safe.\") if 6.0 <= magnitude < 7.0 else\n",
    "    (\"Major\", \"Severe damage over large areas. Be cautious.\") if 7.0 <= magnitude < 8.0 else\n",
    "    (\"Great\", \"Massive destruction. Evacuate immediately.\") if magnitude >= 8.0 else\n",
    "    (\"Invalid\", \"Magnitude cannot be negative.\")\n",
    ")\n",
    "\n",
    "try:\n",
    "    magnitude = float(input(\"Enter the earthquake magnitude: \"))\n",
    "    \n",
    "\n",
    "    category, advice = earthquake_category(magnitude)\n",
    "\n",
    "    if category == \"Invalid\":\n",
    "        print(\"Invalid input. Please enter a valid magnitude.\")\n",
    "    else:\n",
    "        print(f\"Category: {category}\\nAdvice: {advice}\")\n",
    "\n",
    "except ValueError:\n",
    "    print(\"Invalid input. Please enter a numerical value for the magnitude.\")\n"
   ]
  }
 ],
 "metadata": {
  "kernelspec": {
   "display_name": ".venv",
   "language": "python",
   "name": "python3"
  },
  "language_info": {
   "codemirror_mode": {
    "name": "ipython",
    "version": 3
   },
   "file_extension": ".py",
   "mimetype": "text/x-python",
   "name": "python",
   "nbconvert_exporter": "python",
   "pygments_lexer": "ipython3",
   "version": "3.13.0"
  }
 },
 "nbformat": 4,
 "nbformat_minor": 2
}
