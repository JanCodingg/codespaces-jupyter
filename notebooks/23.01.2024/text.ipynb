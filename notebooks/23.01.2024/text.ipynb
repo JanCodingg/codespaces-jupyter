{
 "cells": [
  {
   "cell_type": "code",
   "execution_count": 4,
   "metadata": {},
   "outputs": [
    {
     "name": "stdout",
     "output_type": "stream",
     "text": [
      "x\n",
      "x x x\n",
      "x\n",
      "\n",
      "careful of the i \n",
      "0 :X\n",
      "1 :X\n",
      "2 :X\n",
      "3 :X\n",
      "X\n",
      "\n",
      "\n"
     ]
    }
   ],
   "source": [
    "print(\"x\")\n",
    "print(\"x\",\"x\",\"x\",sep=\" \")\n",
    "print(\"x\",end=\"\")\n",
    "print(\"\");print(\"\")\n",
    "\n",
    "print(\"careful of the i \")\n",
    "for i in range(4):\n",
    "    print(i,\":X\") \n",
    "print(\"X\")\n",
    "print(\"\");print(\"\")"
   ]
  },
  {
   "cell_type": "markdown",
   "metadata": {},
   "source": [
    "Test für ein Notebook\n"
   ]
  }
 ],
 "metadata": {
  "kernelspec": {
   "display_name": "Python 3",
   "language": "python",
   "name": "python3"
  },
  "language_info": {
   "codemirror_mode": {
    "name": "ipython",
    "version": 3
   },
   "file_extension": ".py",
   "mimetype": "text/x-python",
   "name": "python",
   "nbconvert_exporter": "python",
   "pygments_lexer": "ipython3",
   "version": "3.12.1"
  }
 },
 "nbformat": 4,
 "nbformat_minor": 2
}
