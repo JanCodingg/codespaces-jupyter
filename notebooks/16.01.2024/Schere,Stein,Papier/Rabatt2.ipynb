{
 "cells": [
  {
   "cell_type": "code",
   "execution_count": 2,
   "metadata": {},
   "outputs": [
    {
     "name": "stdout",
     "output_type": "stream",
     "text": [
      "35.0\n"
     ]
    }
   ],
   "source": [
    "age = int(input(\"Dein Alter\"))\n",
    "isStudent = input(\"Bist du Studne: (Y/N)\")\n",
    "\n",
    "price = 50\n",
    "\n",
    "if age < 20:\n",
    "    if isStudent == \"Y\":\n",
    "        price = price*0.7\n",
    "\n",
    "print(price)"
   ]
  }
 ],
 "metadata": {
  "kernelspec": {
   "display_name": ".venv",
   "language": "python",
   "name": "python3"
  },
  "language_info": {
   "codemirror_mode": {
    "name": "ipython",
    "version": 3
   },
   "file_extension": ".py",
   "mimetype": "text/x-python",
   "name": "python",
   "nbconvert_exporter": "python",
   "pygments_lexer": "ipython3",
   "version": "3.13.0"
  }
 },
 "nbformat": 4,
 "nbformat_minor": 2
}
